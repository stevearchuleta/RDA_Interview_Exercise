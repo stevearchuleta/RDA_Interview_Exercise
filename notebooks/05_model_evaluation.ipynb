{
 "cells": [
  {
   "cell_type": "markdown",
   "id": "f85d0604",
   "metadata": {},
   "source": [
    "<font color='orange' size='5'>**Model Evaluation**</font>\n"
   ]
  },
  {
   "cell_type": "markdown",
   "id": "edcc59b6",
   "metadata": {},
   "source": [
    "<div style=\"border-top: 3px solid black\"></div>  \n"
   ]
  },
  {
   "cell_type": "markdown",
   "id": "12fe9050",
   "metadata": {},
   "source": [
    "<font color='orange' size='5'>**Steven Archuleta**</font><br>  \n",
    "<font color='#000080'>Interview Candidate</font><br>  \n",
    "<font color='#000080'>Research Data Analyst I/II</font><br>\n",
    "\n",
    "<div style=\"float: left\"> <img src=\"../reports/figures/RADD_logo.jpg\" /> </div>\n",
    "<div style=\"clear: both\"></div>\n",
    "\n",
    "<font color='black'>\n",
    "\n",
    "- CDSS (California Department of Social Services)\n",
    "- RADD (Research Automation Data Division)\n",
    "- RDI (Research Data Insights Branch)\n",
    "- EARS (Exploratory Analysis & Research Section)\n",
    "- AM (Analysis & Modelling Unit)\n",
    "\n",
    "</font>"
   ]
  },
  {
   "cell_type": "markdown",
   "id": "0b6b0273",
   "metadata": {},
   "source": [
    "<div style=\"border-top: 3px solid black\"></div>  \n"
   ]
  },
  {
   "cell_type": "markdown",
   "id": "035360b0",
   "metadata": {},
   "source": [
    "&nbsp;\n",
    "<a id='top'></a>  \n",
    "**TABLE OF CONTENTS**\n",
    "\n",
    "&nbsp;\n",
    "    \n",
    "|<font color=white>.</font> | <font color=white>.</font> | <font color=white>.</font> |<font color=white>.</font> |\n",
    "|:----------|:---------|:---------|:---------|\n",
    "| <a href='#libraries'>1. Libraries and Packages</a> | <a href='#readdata'>2. Load Data</a> | <a href='#shape'>3. Shape of Data Frame</a>  |<a href='#sample'>4. Sample of DataFrame</a> |\n",
    "| <a href='#columnnames'>5. Feature Names</a> |<a href='#comprehensions'>6. List and Dictionary Comprehensions</a>|<a href='#info'>7. Dataframe Info</a>| <a href='#fix'>8. Fix Datatypes</a> | \n",
    "| [9. Dictonary Comprehension](#dictionary) |[10. DataType Count](#dtcount) | [11. DataFrame Information](#info) | [12. Fix Datatypes](#fixdt) |\n",
    "| [13. Data Description](#describe)| [14. Duplicate Data Objects](#duplicates) | [15. Drop Rows](#drop)  |[16. Outliers](#outliers)|\n",
    "|  [17. Missing Values](#missing) | [18. Impute Values](#impute) | [19. Unique Values](#uniquevalues)| [20. Negative Values](#negative)|\n",
    "|  [21. Values Equal Zero](#zero) | [22. Values Equal 100](#100) |[23. Contingency Tables](#crosstab) |  [24. Group By](#groupby) |\n",
    "| [25. EDA](#eda) | [26. Rename Columns](#rename) | [ZZ. Combinations of KPIs](#kpi) | [28. Sandbox](#sandbox) |\n",
    "&nbsp;  \n",
    " \n"
   ]
  },
  {
   "cell_type": "markdown",
   "id": "05fe1039",
   "metadata": {},
   "source": [
    "<div style=\"border-top: 3px solid black\"></div>  \n"
   ]
  },
  {
   "cell_type": "code",
   "execution_count": null,
   "id": "5ed2649d",
   "metadata": {},
   "outputs": [],
   "source": []
  }
 ],
 "metadata": {
  "kernelspec": {
   "display_name": "Python 3 (ipykernel)",
   "language": "python",
   "name": "python3"
  },
  "language_info": {
   "codemirror_mode": {
    "name": "ipython",
    "version": 3
   },
   "file_extension": ".py",
   "mimetype": "text/x-python",
   "name": "python",
   "nbconvert_exporter": "python",
   "pygments_lexer": "ipython3",
   "version": "3.9.9"
  }
 },
 "nbformat": 4,
 "nbformat_minor": 5
}
